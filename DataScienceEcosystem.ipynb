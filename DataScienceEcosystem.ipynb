{
 "cells": [
  {
   "cell_type": "markdown",
   "id": "1a942f04-add4-46d7-9185-a87b178a55db",
   "metadata": {},
   "source": [
    "# Data Science Tools & Ecosystem #\n",
    "\n",
    "**In this NoteBook, Data Science Tools and Ecosystem is Summarized:**\n",
    "\n",
    "### Some of the popular Language for Data Science use are: ###\n",
    "1. Phyton\n",
    "2. Jupitar Note Book\n",
    "3. R\n",
    "\n",
    "### some of the popular Libraries use in for Data Science are: ###\n",
    "1. Numpy\n",
    "2. Pandas\n",
    "3. seaborn\n",
    "\n",
    "| Data Science Tools |\n",
    "| ------ |\n",
    "| Jupitor Notebook |\n",
    "| R Studio |\n",
    "| VS |\n",
    "\n",
    "### Below are the few example of Evaluating arithematic expression in Phython"
   ]
  },
  {
   "cell_type": "code",
   "execution_count": 1,
   "id": "5fedb52b-c19e-45f6-8ca6-a5991404d03e",
   "metadata": {},
   "outputs": [
    {
     "data": {
      "text/plain": [
       "17"
      ]
     },
     "execution_count": 1,
     "metadata": {},
     "output_type": "execute_result"
    }
   ],
   "source": [
    "a=(3*4)+5\n",
    "#This a simple arithmetic expression to mutiply then add integers\n",
    "a"
   ]
  },
  {
   "cell_type": "code",
   "execution_count": 2,
   "id": "56713344-53d9-4376-967c-157035785034",
   "metadata": {},
   "outputs": [
    {
     "data": {
      "text/plain": [
       "3.3333333333333335"
      ]
     },
     "execution_count": 2,
     "metadata": {},
     "output_type": "execute_result"
    }
   ],
   "source": [
    "# This will convert 200 minutes to hours by diving by 60\n",
    "Hours = 200/60\n",
    "Hours"
   ]
  },
  {
   "cell_type": "markdown",
   "id": "1586a716-2103-4613-8cf4-0c0198174d01",
   "metadata": {},
   "source": [
    "**Objectives:**\n",
    "\n",
    "- List popular languages for Data Science\n",
    "- Describe the different open-source tools used in Data Science\n",
    "- Demonstrate basic arithmetic operations in Python\n",
    "- Convert units of time using Python expressions\n",
    "- Create and format tables in markdown\n",
    "\n",
    "  ## Author\n",
    "  Waqar Ahmed Siddiqui"
   ]
  },
  {
   "cell_type": "code",
   "execution_count": null,
   "id": "63f438f7-f35f-49e9-89c7-006058d82520",
   "metadata": {},
   "outputs": [],
   "source": []
  }
 ],
 "metadata": {
  "kernelspec": {
   "display_name": "Python 3 (ipykernel)",
   "language": "python",
   "name": "python3"
  },
  "language_info": {
   "codemirror_mode": {
    "name": "ipython",
    "version": 3
   },
   "file_extension": ".py",
   "mimetype": "text/x-python",
   "name": "python",
   "nbconvert_exporter": "python",
   "pygments_lexer": "ipython3",
   "version": "3.11.7"
  }
 },
 "nbformat": 4,
 "nbformat_minor": 5
}
